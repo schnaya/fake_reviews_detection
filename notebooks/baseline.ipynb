{
 "cells": [
  {
   "cell_type": "code",
   "id": "initial_id",
   "metadata": {
    "collapsed": true,
    "ExecuteTime": {
     "end_time": "2025-07-07T08:35:57.295589Z",
     "start_time": "2025-07-07T08:35:55.688669Z"
    }
   },
   "source": [
    "import pandas as pd\n",
    "from source.data import DataLoader, DataExplorer, DataPreparer\n",
    "from sklearn.model_selection import train_test_split\n",
    "from source.visualization import Vizualizator\n"
   ],
   "outputs": [
    {
     "name": "stderr",
     "output_type": "stream",
     "text": [
      "[nltk_data] Downloading package wordnet to\n",
      "[nltk_data]     C:\\Users\\bbvuser\\AppData\\Roaming\\nltk_data...\n",
      "[nltk_data]   Package wordnet is already up-to-date!\n",
      "[nltk_data] Downloading package omw-1.4 to\n",
      "[nltk_data]     C:\\Users\\bbvuser\\AppData\\Roaming\\nltk_data...\n",
      "[nltk_data]   Package omw-1.4 is already up-to-date!\n"
     ]
    }
   ],
   "execution_count": 1
  },
  {
   "metadata": {
    "ExecuteTime": {
     "end_time": "2025-07-07T08:35:57.299593Z",
     "start_time": "2025-07-07T08:35:57.296593Z"
    }
   },
   "cell_type": "code",
   "source": "loader = DataLoader()",
   "id": "8a2e5b82bfd12bcc",
   "outputs": [],
   "execution_count": 2
  },
  {
   "metadata": {
    "ExecuteTime": {
     "end_time": "2025-07-07T08:35:57.316099Z",
     "start_time": "2025-07-07T08:35:57.300097Z"
    }
   },
   "cell_type": "code",
   "source": "mexwell_set={\"link\":\"mexwell/fake-reviews-dataset\", \"filename\":\"fake reviews dataset.csv\"}",
   "id": "59b3da8ff9930fa9",
   "outputs": [],
   "execution_count": 3
  },
  {
   "metadata": {
    "ExecuteTime": {
     "end_time": "2025-07-07T08:35:57.420528Z",
     "start_time": "2025-07-07T08:35:57.316099Z"
    }
   },
   "cell_type": "code",
   "source": "mexwell_df = loader.load_from_kaggle(**mexwell_set)",
   "id": "b920a2a425b78e",
   "outputs": [
    {
     "name": "stdout",
     "output_type": "stream",
     "text": [
      "../data\\mexwell\\fake-reviews-dataset\\fake reviews dataset.csv\n"
     ]
    }
   ],
   "execution_count": 4
  },
  {
   "metadata": {
    "ExecuteTime": {
     "end_time": "2025-07-07T08:35:57.424962Z",
     "start_time": "2025-07-07T08:35:57.421535Z"
    }
   },
   "cell_type": "code",
   "source": [
    "explorer = DataExplorer(mexwell_df)\n",
    "explorer.show_head()"
   ],
   "id": "5e98b116b7310041",
   "outputs": [],
   "execution_count": 5
  },
  {
   "metadata": {
    "ExecuteTime": {
     "end_time": "2025-07-07T08:35:58.205141Z",
     "start_time": "2025-07-07T08:35:57.437966Z"
    }
   },
   "cell_type": "code",
   "source": "explorer.print_summary(text_column=\"text_\", label_column=\"label\", rating_column=\"rating\")",
   "id": "1e5d40b940cd3e73",
   "outputs": [
    {
     "name": "stdout",
     "output_type": "stream",
     "text": [
      "==================================================\n",
      "СВОДКА ПО ДАННЫМ\n",
      "==================================================\n",
      "Размерность данных: (40432, 4)\n",
      "Количество колонок: 4\n",
      "Колонки: category, rating, label, text_\n",
      "\n",
      "Пропущенные значения отсутствуют\n",
      "\n",
      "АНАЛИЗ ТЕКСТА:\n",
      "  Длина текста - мин: 24, макс: 2827, среднее: 351.27\n",
      "  Топ-5 слов: the(157256), a(96886), i(96841), and(87616), it(68590)\n",
      "\n",
      "РАСПРЕДЕЛЕНИЕ РЕЙТИНГОВ:\n",
      "  1.0: 2155 (5.3%)\n",
      "  2.0: 1967 (4.9%)\n",
      "  3.0: 3786 (9.4%)\n",
      "  4.0: 7965 (19.7%)\n",
      "  5.0: 24559 (60.7%)\n",
      "\n",
      "РЕЙТИНГИ ПО МЕТКАМ (%):\n",
      "label      CG     OR  Всего\n",
      "rating                     \n",
      "1.0      5.26   5.40   5.33\n",
      "2.0      4.76   4.97   4.86\n",
      "3.0      9.66   9.07   9.36\n",
      "4.0     19.39  20.01  19.70\n",
      "5.0     60.94  60.55  60.74\n",
      "\n",
      "РАСПРЕДЕЛЕНИЕ МЕТОК:\n",
      "  CG: 20216 (50.0%)\n",
      "  OR: 20216 (50.0%)\n",
      "\n"
     ]
    }
   ],
   "execution_count": 7
  },
  {
   "metadata": {
    "ExecuteTime": {
     "end_time": "2025-07-07T08:36:03.577068Z",
     "start_time": "2025-07-07T08:35:58.207148Z"
    }
   },
   "cell_type": "code",
   "source": [
    "mexwell_preparer = DataPreparer(mexwell_df)\n",
    "processed_preparer = mexwell_preparer.prepare_df(\n",
    "    handle_missing_strategy='fill',\n",
    "    handle_missing_columns=['text_', 'label'],\n",
    "    handle_missing_fill_value={'text_': '', 'label': -1},\n",
    "    drop_duplicates_subset=None,\n",
    "    encode_label_col='label',\n",
    "    clean_text_col='text_',\n",
    "    clean_text_methods=['lower', 'remove_punctuation', 'remove_numbers', 'remove_whitespace', 'remove_stopwords'],\n",
    "    clean_text_lemmatize=True\n",
    ")\n",
    "processed_df = processed_preparer.get_result()\n",
    "label_map = processed_preparer.get_label_mapping()"
   ],
   "id": "14581016743a85cd",
   "outputs": [
    {
     "name": "stdout",
     "output_type": "stream",
     "text": [
      "Starting data preparation...\n",
      "Handling missing values using strategy: 'fill'...\n",
      "DataFrame shape after handling missing values: (40432, 4)\n",
      "Encoding labels in 'label'. Mapping created: {'CG': 0, 'OR': 1}\n",
      "Cleaning text column: 'text_'...\n",
      "Text cleaning applied to 'text_'.\n",
      "Data preparation complete.\n"
     ]
    }
   ],
   "execution_count": 8
  },
  {
   "metadata": {
    "ExecuteTime": {
     "end_time": "2025-07-07T08:36:03.581496Z",
     "start_time": "2025-07-07T08:36:03.577068Z"
    }
   },
   "cell_type": "code",
   "source": [
    "label_map = processed_preparer.get_label_mapping()\n",
    "target_names = [k for k, v in sorted(label_map.items(), key=lambda item: item[1])]\n",
    "target_names"
   ],
   "id": "8861ebd5ff8f7dc",
   "outputs": [
    {
     "data": {
      "text/plain": [
       "['CG', 'OR']"
      ]
     },
     "execution_count": 9,
     "metadata": {},
     "output_type": "execute_result"
    }
   ],
   "execution_count": 9
  },
  {
   "metadata": {
    "ExecuteTime": {
     "end_time": "2025-07-07T08:36:03.590713Z",
     "start_time": "2025-07-07T08:36:03.581496Z"
    }
   },
   "cell_type": "code",
   "source": "processed_df.head()",
   "id": "a16b011c10ba44da",
   "outputs": [
    {
     "data": {
      "text/plain": [
       "             category  rating  label  \\\n",
       "0  Home_and_Kitchen_5     5.0      0   \n",
       "1  Home_and_Kitchen_5     5.0      0   \n",
       "2  Home_and_Kitchen_5     5.0      0   \n",
       "3  Home_and_Kitchen_5     1.0      0   \n",
       "4  Home_and_Kitchen_5     5.0      0   \n",
       "\n",
       "                                               text_  \n",
       "0  love well made sturdy comfortable love itvery ...  \n",
       "1   love great upgrade original ive mine couple year  \n",
       "2            pillow saved back love look feel pillow  \n",
       "3        missing information use great product price  \n",
       "4                nice set good quality set two month  "
      ],
      "text/html": [
       "<div>\n",
       "<style scoped>\n",
       "    .dataframe tbody tr th:only-of-type {\n",
       "        vertical-align: middle;\n",
       "    }\n",
       "\n",
       "    .dataframe tbody tr th {\n",
       "        vertical-align: top;\n",
       "    }\n",
       "\n",
       "    .dataframe thead th {\n",
       "        text-align: right;\n",
       "    }\n",
       "</style>\n",
       "<table border=\"1\" class=\"dataframe\">\n",
       "  <thead>\n",
       "    <tr style=\"text-align: right;\">\n",
       "      <th></th>\n",
       "      <th>category</th>\n",
       "      <th>rating</th>\n",
       "      <th>label</th>\n",
       "      <th>text_</th>\n",
       "    </tr>\n",
       "  </thead>\n",
       "  <tbody>\n",
       "    <tr>\n",
       "      <th>0</th>\n",
       "      <td>Home_and_Kitchen_5</td>\n",
       "      <td>5.0</td>\n",
       "      <td>0</td>\n",
       "      <td>love well made sturdy comfortable love itvery ...</td>\n",
       "    </tr>\n",
       "    <tr>\n",
       "      <th>1</th>\n",
       "      <td>Home_and_Kitchen_5</td>\n",
       "      <td>5.0</td>\n",
       "      <td>0</td>\n",
       "      <td>love great upgrade original ive mine couple year</td>\n",
       "    </tr>\n",
       "    <tr>\n",
       "      <th>2</th>\n",
       "      <td>Home_and_Kitchen_5</td>\n",
       "      <td>5.0</td>\n",
       "      <td>0</td>\n",
       "      <td>pillow saved back love look feel pillow</td>\n",
       "    </tr>\n",
       "    <tr>\n",
       "      <th>3</th>\n",
       "      <td>Home_and_Kitchen_5</td>\n",
       "      <td>1.0</td>\n",
       "      <td>0</td>\n",
       "      <td>missing information use great product price</td>\n",
       "    </tr>\n",
       "    <tr>\n",
       "      <th>4</th>\n",
       "      <td>Home_and_Kitchen_5</td>\n",
       "      <td>5.0</td>\n",
       "      <td>0</td>\n",
       "      <td>nice set good quality set two month</td>\n",
       "    </tr>\n",
       "  </tbody>\n",
       "</table>\n",
       "</div>"
      ]
     },
     "execution_count": 10,
     "metadata": {},
     "output_type": "execute_result"
    }
   ],
   "execution_count": 10
  },
  {
   "metadata": {
    "ExecuteTime": {
     "end_time": "2025-07-07T08:36:04.252914Z",
     "start_time": "2025-07-07T08:36:03.590713Z"
    }
   },
   "cell_type": "code",
   "source": [
    "X_tfidf, y_labels= processed_preparer.get_features_and_labels(\n",
    "        text_column='text_',\n",
    "        label_column='label',\n",
    "        vectorizer_method='tfidf',\n",
    "        max_features=5000\n",
    ")"
   ],
   "id": "c67300e12e3e5548",
   "outputs": [
    {
     "name": "stdout",
     "output_type": "stream",
     "text": [
      "Vectorizing text from 'text_' using 'tfidf'...\n",
      "Feature matrix shape: (40432, 5000)\n",
      "Extracted labels from 'label'. Shape: (40432,)\n"
     ]
    }
   ],
   "execution_count": 11
  },
  {
   "metadata": {
    "ExecuteTime": {
     "end_time": "2025-07-07T08:36:04.260972Z",
     "start_time": "2025-07-07T08:36:04.253422Z"
    }
   },
   "cell_type": "code",
   "source": [
    "X_train, X_test, y_train, y_test = train_test_split(\n",
    "            X_tfidf,\n",
    "            y_labels,\n",
    "            test_size=0.2,\n",
    "            random_state=42)"
   ],
   "id": "58341642e66046cc",
   "outputs": [],
   "execution_count": 12
  },
  {
   "metadata": {
    "ExecuteTime": {
     "end_time": "2025-07-07T08:36:04.275453Z",
     "start_time": "2025-07-07T08:36:04.260972Z"
    }
   },
   "cell_type": "code",
   "source": [
    "from source.models.baseline_models import BaselineModelTrainer\n",
    "\n",
    "trainer = BaselineModelTrainer()\n",
    "supported_models = trainer.get_supported_models()\n",
    "supported_models"
   ],
   "id": "ca87f8a55a69ecc2",
   "outputs": [
    {
     "data": {
      "text/plain": [
       "['logistic_regression', 'naive_bayes', 'linear_svc']"
      ]
     },
     "execution_count": 13,
     "metadata": {},
     "output_type": "execute_result"
    }
   ],
   "execution_count": 13
  },
  {
   "metadata": {},
   "cell_type": "markdown",
   "source": "",
   "id": "93885e2c04ffa762"
  },
  {
   "metadata": {
    "ExecuteTime": {
     "end_time": "2025-07-07T08:36:04.568922Z",
     "start_time": "2025-07-07T08:36:04.276461Z"
    }
   },
   "cell_type": "code",
   "source": [
    "from sklearn.metrics import classification_report\n",
    "\n",
    "trainer = BaselineModelTrainer()\n",
    "results = {}\n",
    "\n",
    "for model_name in trainer.get_supported_models():\n",
    "    y_pred, model = trainer.train_and_predict(model_name, X_train, y_train, X_test)\n",
    "    report = classification_report(y_test, y_pred, target_names=target_names, output_dict=True)\n",
    "    results[model_name] = report\n",
    "    print(classification_report(y_test, y_pred, target_names=target_names))"
   ],
   "id": "66cee5732c65b6c2",
   "outputs": [
    {
     "name": "stdout",
     "output_type": "stream",
     "text": [
      "--- Training logistic_regression ---\n",
      "Using model parameters: {'class_weight': 'balanced', 'random_state': 42, 'max_iter': 1000, 'solver': 'liblinear'}\n",
      "Training complete.\n",
      "Making predictions on the test set...\n",
      "              precision    recall  f1-score   support\n",
      "\n",
      "          CG       0.88      0.85      0.87      4016\n",
      "          OR       0.86      0.89      0.87      4071\n",
      "\n",
      "    accuracy                           0.87      8087\n",
      "   macro avg       0.87      0.87      0.87      8087\n",
      "weighted avg       0.87      0.87      0.87      8087\n",
      "\n",
      "--- Training naive_bayes ---\n",
      "Using model parameters: {'alpha': 1.0}\n",
      "Training complete.\n",
      "Making predictions on the test set...\n",
      "              precision    recall  f1-score   support\n",
      "\n",
      "          CG       0.83      0.87      0.85      4016\n",
      "          OR       0.86      0.83      0.85      4071\n",
      "\n",
      "    accuracy                           0.85      8087\n",
      "   macro avg       0.85      0.85      0.85      8087\n",
      "weighted avg       0.85      0.85      0.85      8087\n",
      "\n",
      "--- Training linear_svc ---\n",
      "Using model parameters: {'class_weight': 'balanced', 'random_state': 42, 'max_iter': 2000, 'dual': False}\n",
      "Training complete.\n",
      "Making predictions on the test set...\n",
      "              precision    recall  f1-score   support\n",
      "\n",
      "          CG       0.88      0.88      0.88      4016\n",
      "          OR       0.88      0.88      0.88      4071\n",
      "\n",
      "    accuracy                           0.88      8087\n",
      "   macro avg       0.88      0.88      0.88      8087\n",
      "weighted avg       0.88      0.88      0.88      8087\n",
      "\n"
     ]
    }
   ],
   "execution_count": 14
  },
  {
   "metadata": {
    "ExecuteTime": {
     "end_time": "2025-07-07T08:36:10.512325Z",
     "start_time": "2025-07-07T08:36:04.569930Z"
    }
   },
   "cell_type": "code",
   "source": [
    "from sklearn.model_selection import GridSearchCV\n",
    "from sklearn.linear_model import LogisticRegression\n",
    "param_grid = {'C': [0.01, 0.1, 1, 10, 100]}\n",
    "\n",
    "grid_search = GridSearchCV(\n",
    "    LogisticRegression(class_weight='balanced', max_iter=1000, solver='liblinear'),\n",
    "    param_grid,\n",
    "    cv=5,\n",
    "    scoring='f1_weighted',\n",
    "    verbose=1,\n",
    "    n_jobs=-1 \n",
    ")\n",
    "\n",
    "grid_search.fit(X_train, y_train)\n",
    "\n",
    "best_model = grid_search.best_estimator_\n",
    "print(f\"\\nЛучший параметр C: {grid_search.best_params_}\")\n",
    "print(f\"Лучший F1-score на кросс-валидации: {grid_search.best_score_:.4f}\")\n",
    "\n",
    "y_pred_tuned = best_model.predict(X_test)\n",
    "report_tuned = classification_report(y_test, y_pred_tuned, target_names=target_names, output_dict=True)\n",
    "results['logistic_regression_tuned'] = report_tuned\n",
    "\n",
    "print(\"\\nОтчет по классификации для Logistic Regression с лучшими параметрами:\")\n",
    "print(classification_report(y_test, y_pred_tuned, target_names=target_names))"
   ],
   "id": "55304898b24ddd8b",
   "outputs": [
    {
     "name": "stdout",
     "output_type": "stream",
     "text": [
      "Fitting 5 folds for each of 5 candidates, totalling 25 fits\n",
      "\n",
      "Лучший параметр C: {'C': 10}\n",
      "Лучший F1-score на кросс-валидации: 0.8707\n",
      "\n",
      "Отчет по классификации для Logistic Regression с лучшими параметрами:\n",
      "              precision    recall  f1-score   support\n",
      "\n",
      "          CG       0.88      0.87      0.88      4016\n",
      "          OR       0.88      0.88      0.88      4071\n",
      "\n",
      "    accuracy                           0.88      8087\n",
      "   macro avg       0.88      0.88      0.88      8087\n",
      "weighted avg       0.88      0.88      0.88      8087\n",
      "\n"
     ]
    }
   ],
   "execution_count": 15
  },
  {
   "metadata": {
    "ExecuteTime": {
     "end_time": "2025-07-07T08:36:10.521755Z",
     "start_time": "2025-07-07T08:36:10.513330Z"
    }
   },
   "cell_type": "code",
   "source": [
    "\n",
    "viz = Vizualizator(best_model, processed_preparer.vectorizer, processed_preparer.get_label_mapping())\n",
    "viz.print_top_words()\n"
   ],
   "id": "2a9d928ffbc1a9b7",
   "outputs": [
    {
     "name": "stdout",
     "output_type": "stream",
     "text": [
      "\n",
      "--- Слова, наиболее связанные с классом 'fake' ---\n",
      "iti          -12.393841\n",
      "reason       -10.157247\n",
      "admit         -9.820584\n",
      "onei          -8.569639\n",
      "downside      -8.474605\n",
      "problem       -8.379835\n",
      "developed     -7.592982\n",
      "producti      -7.408450\n",
      "wide          -7.348816\n",
      "itthis        -7.255685\n",
      "couple        -7.056794\n",
      "replace       -6.993440\n",
      "readi         -6.961250\n",
      "blown         -6.667292\n",
      "plastic       -6.520954\n",
      "anyonei       -6.470874\n",
      "itvery        -6.292740\n",
      "againi        -6.124669\n",
      "dimension     -6.039090\n",
      "also          -5.921129\n",
      "greatnice     -5.849422\n",
      "booki         -5.831554\n",
      "wooden        -5.819376\n",
      "priceworks    -5.638327\n",
      "told          -5.614706\n",
      "goodi         -5.543184\n",
      "anyonethis    -5.508540\n",
      "anyone        -5.479478\n",
      "addition      -5.473601\n",
      "taurus        -5.344481\n",
      "dtype: float64\n",
      "\n",
      "--- Слова, наиболее связанные с классом 'real' ---\n",
      "without       7.070584\n",
      "even          6.672737\n",
      "otherwise     6.460687\n",
      "though        6.437804\n",
      "instead       6.425092\n",
      "despite       6.295661\n",
      "exciting      6.291084\n",
      "bc            6.270854\n",
      "lady          6.167736\n",
      "coming        6.139044\n",
      "pick          6.120812\n",
      "fitting       6.067095\n",
      "ask           5.945289\n",
      "perhaps       5.941836\n",
      "burned        5.855460\n",
      "thru          5.788224\n",
      "def           5.723608\n",
      "porch         5.721115\n",
      "actually      5.687278\n",
      "fully         5.634759\n",
      "folk          5.623357\n",
      "content       5.567473\n",
      "connects      5.559860\n",
      "believe       5.455674\n",
      "everywhere    5.438814\n",
      "standalone    5.418352\n",
      "solved        5.405872\n",
      "somewhat      5.400919\n",
      "sold          5.373630\n",
      "hasnt         5.361961\n",
      "dtype: float64\n"
     ]
    }
   ],
   "execution_count": 16
  },
  {
   "metadata": {},
   "cell_type": "markdown",
   "source": [
    "### Анализ результатов\n",
    "#### Лучшая модель: \n",
    "Судя по сводной таблице, наилучший результат по метрике F1-score (weighted) показала модель logistic_regression_tuned (значение 0.88) и linear_svc. Это подтверждает, что подбор гиперпараметров позволил улучшить качество по сравнению с базовой логистической регрессией.\n",
    "\n",
    "#### Сравнение моделей: \n",
    "Все три базовые модели показали схожие результаты, что часто бывает на задачах классификации текста. LinearSVC немного опередила NaiveBayes и LogisticRegression.\n",
    "\n",
    "#### Анализ по классам (посмотреть в classification_report): \n",
    "Метрики для классов 'positive' и 'negative' сбалансированы, что говорит об отсутствии явного перекоса в предсказаниях модели в сторону одного из классов. Если бы для одного класса recall был бы значительно ниже, это бы указывало на проблему.\n",
    "\n",
    "### Вывод:\n",
    " Простые линейные модели отлично справляются с данной задачей. Оптимизация гиперпараметров дает дополнительный, хоть и не кардинальный, прирост качества. В качестве финальной модели для развертывания рекомендуется logistic_regression_tuned."
   ],
   "id": "c8258f6a53b40bcc"
  },
  {
   "metadata": {
    "ExecuteTime": {
     "end_time": "2025-07-07T08:36:10.528078Z",
     "start_time": "2025-07-07T08:36:10.522761Z"
    }
   },
   "cell_type": "code",
   "source": [
    "yelp_set={\"link\":\"thedevastator/yelp-reviews-sentiment-dataset\", \"filename\":\"train.csv\"}\n",
    "flipkart_set={\"link\":\"niraliivaghani/flipkart-product-customer-reviews-dataset\", \"filename\":\"Dataset-SA.csv\"}\n",
    "amazon_set={\"link\":\"dongrelaxman/amazon-reviews-dataset\", \"filename\":\"Amazon_Reviews.csv\"}\n"
   ],
   "id": "e39f791bea5dc532",
   "outputs": [],
   "execution_count": 17
  },
  {
   "metadata": {},
   "cell_type": "code",
   "outputs": [],
   "execution_count": null,
   "source": "",
   "id": "a25d7f4416a04fb5"
  }
 ],
 "metadata": {
  "kernelspec": {
   "display_name": "Python 3",
   "language": "python",
   "name": "python3"
  },
  "language_info": {
   "codemirror_mode": {
    "name": "ipython",
    "version": 2
   },
   "file_extension": ".py",
   "mimetype": "text/x-python",
   "name": "python",
   "nbconvert_exporter": "python",
   "pygments_lexer": "ipython2",
   "version": "2.7.6"
  }
 },
 "nbformat": 4,
 "nbformat_minor": 5
}
