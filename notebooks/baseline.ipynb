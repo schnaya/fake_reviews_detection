{
 "cells": [
  {
   "cell_type": "code",
   "id": "initial_id",
   "metadata": {
    "collapsed": true,
    "ExecuteTime": {
     "end_time": "2025-06-25T13:28:46.297576Z",
     "start_time": "2025-06-25T13:28:45.761899Z"
    }
   },
   "source": [
    "import pandas as pd\n",
    "from source.data import DataLoader, DataExplorer"
   ],
   "outputs": [],
   "execution_count": 1
  },
  {
   "metadata": {
    "ExecuteTime": {
     "end_time": "2025-06-25T13:28:46.301099Z",
     "start_time": "2025-06-25T13:28:46.298083Z"
    }
   },
   "cell_type": "code",
   "source": "loader = DataLoader()",
   "id": "8a2e5b82bfd12bcc",
   "outputs": [],
   "execution_count": 2
  },
  {
   "metadata": {
    "ExecuteTime": {
     "end_time": "2025-06-25T13:28:46.307890Z",
     "start_time": "2025-06-25T13:28:46.301099Z"
    }
   },
   "cell_type": "code",
   "source": "mexwell_set={\"link\":\"mexwell/fake-reviews-dataset\", \"filename\":\"fake reviews dataset.csv\"}",
   "id": "59b3da8ff9930fa9",
   "outputs": [],
   "execution_count": 3
  },
  {
   "metadata": {
    "ExecuteTime": {
     "end_time": "2025-06-25T13:28:53.923134Z",
     "start_time": "2025-06-25T13:28:46.307890Z"
    }
   },
   "cell_type": "code",
   "source": "df = loader.load_from_kaggle(**mexwell_set)",
   "id": "b920a2a425b78e",
   "outputs": [
    {
     "name": "stdout",
     "output_type": "stream",
     "text": [
      "Downloading from https://www.kaggle.com/api/v1/datasets/download/mexwell/fake-reviews-dataset?dataset_version_number=1...\n"
     ]
    },
    {
     "name": "stderr",
     "output_type": "stream",
     "text": [
      "100%|██████████| 4.78M/4.78M [00:05<00:00, 875kB/s]"
     ]
    },
    {
     "name": "stdout",
     "output_type": "stream",
     "text": [
      "Extracting files...\n"
     ]
    },
    {
     "name": "stderr",
     "output_type": "stream",
     "text": [
      "\n"
     ]
    }
   ],
   "execution_count": 4
  },
  {
   "metadata": {
    "ExecuteTime": {
     "end_time": "2025-06-25T13:28:53.927138Z",
     "start_time": "2025-06-25T13:28:53.924139Z"
    }
   },
   "cell_type": "code",
   "source": "explorer = DataExplorer(df)",
   "id": "5e98b116b7310041",
   "outputs": [],
   "execution_count": 5
  },
  {
   "metadata": {
    "ExecuteTime": {
     "end_time": "2025-06-25T13:28:53.944985Z",
     "start_time": "2025-06-25T13:28:53.927138Z"
    }
   },
   "cell_type": "code",
   "source": "explorer.columns_info()",
   "id": "db5e42f8d944ffd8",
   "outputs": [
    {
     "data": {
      "text/plain": [
       "array(['category', 'rating', 'label', 'text_'], dtype=object)"
      ]
     },
     "execution_count": 6,
     "metadata": {},
     "output_type": "execute_result"
    }
   ],
   "execution_count": 6
  },
  {
   "metadata": {
    "ExecuteTime": {
     "end_time": "2025-06-25T13:28:53.952003Z",
     "start_time": "2025-06-25T13:28:53.945990Z"
    }
   },
   "cell_type": "code",
   "source": "explorer.label_distribution()",
   "id": "dd16ef97ed494cfa",
   "outputs": [
    {
     "data": {
      "text/plain": [
       "label\n",
       "CG    20216\n",
       "OR    20216\n",
       "Name: count, dtype: int64"
      ]
     },
     "execution_count": 7,
     "metadata": {},
     "output_type": "execute_result"
    }
   ],
   "execution_count": 7
  },
  {
   "metadata": {},
   "cell_type": "code",
   "outputs": [],
   "execution_count": null,
   "source": "",
   "id": "45f15226a9cde341"
  }
 ],
 "metadata": {
  "kernelspec": {
   "display_name": "Python 3",
   "language": "python",
   "name": "python3"
  },
  "language_info": {
   "codemirror_mode": {
    "name": "ipython",
    "version": 2
   },
   "file_extension": ".py",
   "mimetype": "text/x-python",
   "name": "python",
   "nbconvert_exporter": "python",
   "pygments_lexer": "ipython2",
   "version": "2.7.6"
  }
 },
 "nbformat": 4,
 "nbformat_minor": 5
}
