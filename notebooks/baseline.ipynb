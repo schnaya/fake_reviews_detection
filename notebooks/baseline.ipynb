{
 "cells": [
  {
   "cell_type": "code",
   "id": "initial_id",
   "metadata": {
    "collapsed": true,
    "ExecuteTime": {
     "end_time": "2025-06-27T17:14:32.075137Z",
     "start_time": "2025-06-27T17:14:32.071280Z"
    }
   },
   "source": [
    "import pandas as pd\n",
    "from source.data import DataLoader, DataExplorer, DataPreparer\n",
    "from sklearn.model_selection import train_test_split\n"
   ],
   "outputs": [],
   "execution_count": 26
  },
  {
   "metadata": {
    "ExecuteTime": {
     "end_time": "2025-06-27T16:58:57.691672Z",
     "start_time": "2025-06-27T16:58:57.688415Z"
    }
   },
   "cell_type": "code",
   "source": "loader = DataLoader()",
   "id": "8a2e5b82bfd12bcc",
   "outputs": [],
   "execution_count": 2
  },
  {
   "metadata": {
    "ExecuteTime": {
     "end_time": "2025-06-27T16:58:57.702656Z",
     "start_time": "2025-06-27T16:58:57.692678Z"
    }
   },
   "cell_type": "code",
   "source": "mexwell_set={\"link\":\"mexwell/fake-reviews-dataset\", \"filename\":\"fake reviews dataset.csv\"}",
   "id": "59b3da8ff9930fa9",
   "outputs": [],
   "execution_count": 3
  },
  {
   "metadata": {
    "ExecuteTime": {
     "end_time": "2025-06-27T17:01:34.442353Z",
     "start_time": "2025-06-27T17:01:34.327512Z"
    }
   },
   "cell_type": "code",
   "source": "mexwell_df = loader.load_from_kaggle(**mexwell_set)",
   "id": "b920a2a425b78e",
   "outputs": [
    {
     "name": "stdout",
     "output_type": "stream",
     "text": [
      "../data\\mexwell\\fake-reviews-dataset\\fake reviews dataset.csv\n"
     ]
    }
   ],
   "execution_count": 16
  },
  {
   "metadata": {
    "ExecuteTime": {
     "end_time": "2025-06-27T17:02:15.801013Z",
     "start_time": "2025-06-27T17:02:15.796899Z"
    }
   },
   "cell_type": "code",
   "source": "explorer = DataExplorer(mexwell_df)",
   "id": "5e98b116b7310041",
   "outputs": [],
   "execution_count": 17
  },
  {
   "metadata": {
    "ExecuteTime": {
     "end_time": "2025-06-27T17:02:17.831626Z",
     "start_time": "2025-06-27T17:02:17.822733Z"
    }
   },
   "cell_type": "code",
   "source": "explorer.show_head()",
   "id": "3e1392b0364db173",
   "outputs": [
    {
     "data": {
      "text/plain": [
       "             category  rating label  \\\n",
       "0  Home_and_Kitchen_5     5.0    CG   \n",
       "1  Home_and_Kitchen_5     5.0    CG   \n",
       "2  Home_and_Kitchen_5     5.0    CG   \n",
       "3  Home_and_Kitchen_5     1.0    CG   \n",
       "4  Home_and_Kitchen_5     5.0    CG   \n",
       "5  Home_and_Kitchen_5     3.0    CG   \n",
       "6  Home_and_Kitchen_5     5.0    CG   \n",
       "7  Home_and_Kitchen_5     3.0    CG   \n",
       "8  Home_and_Kitchen_5     5.0    CG   \n",
       "9  Home_and_Kitchen_5     5.0    CG   \n",
       "\n",
       "                                               text_  \n",
       "0  Love this!  Well made, sturdy, and very comfor...  \n",
       "1  love it, a great upgrade from the original.  I...  \n",
       "2  This pillow saved my back. I love the look and...  \n",
       "3  Missing information on how to use it, but it i...  \n",
       "4  Very nice set. Good quality. We have had the s...  \n",
       "5       I WANTED DIFFERENT FLAVORS BUT THEY ARE NOT.  \n",
       "6  They are the perfect touch for me and the only...  \n",
       "7  These done fit well and look great.  I love th...  \n",
       "8  Great big numbers & easy to read, the only thi...  \n",
       "9  My son loves this comforter and it is very wel...  "
      ],
      "text/html": [
       "<div>\n",
       "<style scoped>\n",
       "    .dataframe tbody tr th:only-of-type {\n",
       "        vertical-align: middle;\n",
       "    }\n",
       "\n",
       "    .dataframe tbody tr th {\n",
       "        vertical-align: top;\n",
       "    }\n",
       "\n",
       "    .dataframe thead th {\n",
       "        text-align: right;\n",
       "    }\n",
       "</style>\n",
       "<table border=\"1\" class=\"dataframe\">\n",
       "  <thead>\n",
       "    <tr style=\"text-align: right;\">\n",
       "      <th></th>\n",
       "      <th>category</th>\n",
       "      <th>rating</th>\n",
       "      <th>label</th>\n",
       "      <th>text_</th>\n",
       "    </tr>\n",
       "  </thead>\n",
       "  <tbody>\n",
       "    <tr>\n",
       "      <th>0</th>\n",
       "      <td>Home_and_Kitchen_5</td>\n",
       "      <td>5.0</td>\n",
       "      <td>CG</td>\n",
       "      <td>Love this!  Well made, sturdy, and very comfor...</td>\n",
       "    </tr>\n",
       "    <tr>\n",
       "      <th>1</th>\n",
       "      <td>Home_and_Kitchen_5</td>\n",
       "      <td>5.0</td>\n",
       "      <td>CG</td>\n",
       "      <td>love it, a great upgrade from the original.  I...</td>\n",
       "    </tr>\n",
       "    <tr>\n",
       "      <th>2</th>\n",
       "      <td>Home_and_Kitchen_5</td>\n",
       "      <td>5.0</td>\n",
       "      <td>CG</td>\n",
       "      <td>This pillow saved my back. I love the look and...</td>\n",
       "    </tr>\n",
       "    <tr>\n",
       "      <th>3</th>\n",
       "      <td>Home_and_Kitchen_5</td>\n",
       "      <td>1.0</td>\n",
       "      <td>CG</td>\n",
       "      <td>Missing information on how to use it, but it i...</td>\n",
       "    </tr>\n",
       "    <tr>\n",
       "      <th>4</th>\n",
       "      <td>Home_and_Kitchen_5</td>\n",
       "      <td>5.0</td>\n",
       "      <td>CG</td>\n",
       "      <td>Very nice set. Good quality. We have had the s...</td>\n",
       "    </tr>\n",
       "    <tr>\n",
       "      <th>5</th>\n",
       "      <td>Home_and_Kitchen_5</td>\n",
       "      <td>3.0</td>\n",
       "      <td>CG</td>\n",
       "      <td>I WANTED DIFFERENT FLAVORS BUT THEY ARE NOT.</td>\n",
       "    </tr>\n",
       "    <tr>\n",
       "      <th>6</th>\n",
       "      <td>Home_and_Kitchen_5</td>\n",
       "      <td>5.0</td>\n",
       "      <td>CG</td>\n",
       "      <td>They are the perfect touch for me and the only...</td>\n",
       "    </tr>\n",
       "    <tr>\n",
       "      <th>7</th>\n",
       "      <td>Home_and_Kitchen_5</td>\n",
       "      <td>3.0</td>\n",
       "      <td>CG</td>\n",
       "      <td>These done fit well and look great.  I love th...</td>\n",
       "    </tr>\n",
       "    <tr>\n",
       "      <th>8</th>\n",
       "      <td>Home_and_Kitchen_5</td>\n",
       "      <td>5.0</td>\n",
       "      <td>CG</td>\n",
       "      <td>Great big numbers &amp; easy to read, the only thi...</td>\n",
       "    </tr>\n",
       "    <tr>\n",
       "      <th>9</th>\n",
       "      <td>Home_and_Kitchen_5</td>\n",
       "      <td>5.0</td>\n",
       "      <td>CG</td>\n",
       "      <td>My son loves this comforter and it is very wel...</td>\n",
       "    </tr>\n",
       "  </tbody>\n",
       "</table>\n",
       "</div>"
      ]
     },
     "execution_count": 18,
     "metadata": {},
     "output_type": "execute_result"
    }
   ],
   "execution_count": 18
  },
  {
   "metadata": {
    "ExecuteTime": {
     "end_time": "2025-06-27T17:02:26.854899Z",
     "start_time": "2025-06-27T17:02:26.097090Z"
    }
   },
   "cell_type": "code",
   "source": "explorer.print_summary(text_column=\"text_\", label_column=\"label\", rating_column=\"rating\")",
   "id": "1e5d40b940cd3e73",
   "outputs": [
    {
     "name": "stdout",
     "output_type": "stream",
     "text": [
      "==================================================\n",
      "СВОДКА ПО ДАННЫМ\n",
      "==================================================\n",
      "Размерность данных: (40432, 4)\n",
      "Количество колонок: 4\n",
      "Колонки: category, rating, label, text_\n",
      "\n",
      "Пропущенные значения отсутствуют\n",
      "\n",
      "АНАЛИЗ ТЕКСТА:\n",
      "  Длина текста - мин: 24, макс: 2827, среднее: 351.27\n",
      "  Топ-5 слов: the(157256), a(96886), i(96841), and(87616), it(68590)\n",
      "\n",
      "РАСПРЕДЕЛЕНИЕ РЕЙТИНГОВ:\n",
      "  1.0: 2155 (5.3%)\n",
      "  2.0: 1967 (4.9%)\n",
      "  3.0: 3786 (9.4%)\n",
      "  4.0: 7965 (19.7%)\n",
      "  5.0: 24559 (60.7%)\n",
      "\n",
      "РЕЙТИНГИ ПО МЕТКАМ (%):\n",
      "label      CG     OR  Всего\n",
      "rating                     \n",
      "1.0      5.26   5.40   5.33\n",
      "2.0      4.76   4.97   4.86\n",
      "3.0      9.66   9.07   9.36\n",
      "4.0     19.39  20.01  19.70\n",
      "5.0     60.94  60.55  60.74\n",
      "\n",
      "РАСПРЕДЕЛЕНИЕ МЕТОК:\n",
      "  CG: 20216 (50.0%)\n",
      "  OR: 20216 (50.0%)\n",
      "\n"
     ]
    }
   ],
   "execution_count": 19
  },
  {
   "metadata": {
    "ExecuteTime": {
     "end_time": "2025-06-27T17:03:44.823765Z",
     "start_time": "2025-06-27T17:03:40.651361Z"
    }
   },
   "cell_type": "code",
   "source": [
    "mexwell_preparer = DataPreparer(mexwell_df)\n",
    "processed_preparer = mexwell_preparer.prepare_df(\n",
    "    handle_missing_strategy='fill',\n",
    "    handle_missing_columns=['text_', 'label'],\n",
    "    handle_missing_fill_value={'text_': '', 'label': -1},\n",
    "    drop_duplicates_subset=None,\n",
    "    encode_label_col='label',\n",
    "    clean_text_col='text_',\n",
    "    clean_text_methods=['lower', 'remove_punctuation', 'remove_numbers', 'remove_whitespace', 'remove_stopwords'],\n",
    "    clean_text_lemmatize=True\n",
    ")\n",
    "processed_df = processed_preparer.get_result()\n",
    "label_map = processed_preparer.get_label_mapping()"
   ],
   "id": "14581016743a85cd",
   "outputs": [
    {
     "name": "stdout",
     "output_type": "stream",
     "text": [
      "Starting data preparation...\n",
      "Handling missing values using strategy: 'fill'...\n",
      "DataFrame shape after handling missing values: (40432, 4)\n",
      "Encoding labels in 'label'. Mapping created: {'CG': 0, 'OR': 1}\n",
      "Cleaning text column: 'text_'...\n",
      "Text cleaning applied to 'text_'.\n",
      "Data preparation complete.\n"
     ]
    }
   ],
   "execution_count": 21
  },
  {
   "metadata": {
    "ExecuteTime": {
     "end_time": "2025-06-27T17:35:29.453867Z",
     "start_time": "2025-06-27T17:35:29.445054Z"
    }
   },
   "cell_type": "code",
   "source": [
    "label_map = processed_preparer.get_label_mapping()\n",
    "target_names = [k for k, v in sorted(label_map.items(), key=lambda item: item[1])]"
   ],
   "id": "8861ebd5ff8f7dc",
   "outputs": [],
   "execution_count": 32
  },
  {
   "metadata": {
    "ExecuteTime": {
     "end_time": "2025-06-27T17:04:16.208907Z",
     "start_time": "2025-06-27T17:04:16.201006Z"
    }
   },
   "cell_type": "code",
   "source": "processed_df.head()",
   "id": "a16b011c10ba44da",
   "outputs": [
    {
     "data": {
      "text/plain": [
       "             category  rating  label  \\\n",
       "0  Home_and_Kitchen_5     5.0      0   \n",
       "1  Home_and_Kitchen_5     5.0      0   \n",
       "2  Home_and_Kitchen_5     5.0      0   \n",
       "3  Home_and_Kitchen_5     1.0      0   \n",
       "4  Home_and_Kitchen_5     5.0      0   \n",
       "\n",
       "                                               text_  \n",
       "0  love well made sturdy comfortable love itvery ...  \n",
       "1   love great upgrade original ive mine couple year  \n",
       "2            pillow saved back love look feel pillow  \n",
       "3        missing information use great product price  \n",
       "4                nice set good quality set two month  "
      ],
      "text/html": [
       "<div>\n",
       "<style scoped>\n",
       "    .dataframe tbody tr th:only-of-type {\n",
       "        vertical-align: middle;\n",
       "    }\n",
       "\n",
       "    .dataframe tbody tr th {\n",
       "        vertical-align: top;\n",
       "    }\n",
       "\n",
       "    .dataframe thead th {\n",
       "        text-align: right;\n",
       "    }\n",
       "</style>\n",
       "<table border=\"1\" class=\"dataframe\">\n",
       "  <thead>\n",
       "    <tr style=\"text-align: right;\">\n",
       "      <th></th>\n",
       "      <th>category</th>\n",
       "      <th>rating</th>\n",
       "      <th>label</th>\n",
       "      <th>text_</th>\n",
       "    </tr>\n",
       "  </thead>\n",
       "  <tbody>\n",
       "    <tr>\n",
       "      <th>0</th>\n",
       "      <td>Home_and_Kitchen_5</td>\n",
       "      <td>5.0</td>\n",
       "      <td>0</td>\n",
       "      <td>love well made sturdy comfortable love itvery ...</td>\n",
       "    </tr>\n",
       "    <tr>\n",
       "      <th>1</th>\n",
       "      <td>Home_and_Kitchen_5</td>\n",
       "      <td>5.0</td>\n",
       "      <td>0</td>\n",
       "      <td>love great upgrade original ive mine couple year</td>\n",
       "    </tr>\n",
       "    <tr>\n",
       "      <th>2</th>\n",
       "      <td>Home_and_Kitchen_5</td>\n",
       "      <td>5.0</td>\n",
       "      <td>0</td>\n",
       "      <td>pillow saved back love look feel pillow</td>\n",
       "    </tr>\n",
       "    <tr>\n",
       "      <th>3</th>\n",
       "      <td>Home_and_Kitchen_5</td>\n",
       "      <td>1.0</td>\n",
       "      <td>0</td>\n",
       "      <td>missing information use great product price</td>\n",
       "    </tr>\n",
       "    <tr>\n",
       "      <th>4</th>\n",
       "      <td>Home_and_Kitchen_5</td>\n",
       "      <td>5.0</td>\n",
       "      <td>0</td>\n",
       "      <td>nice set good quality set two month</td>\n",
       "    </tr>\n",
       "  </tbody>\n",
       "</table>\n",
       "</div>"
      ]
     },
     "execution_count": 22,
     "metadata": {},
     "output_type": "execute_result"
    }
   ],
   "execution_count": 22
  },
  {
   "metadata": {
    "ExecuteTime": {
     "end_time": "2025-06-27T17:04:59.622405Z",
     "start_time": "2025-06-27T17:04:58.869605Z"
    }
   },
   "cell_type": "code",
   "source": [
    "X_tfidf, y_labels = processed_preparer.get_features_and_labels(\n",
    "        text_column='text_',\n",
    "        label_column='label',\n",
    "        vectorizer_method='tfidf',\n",
    "        max_features=5000\n",
    ")"
   ],
   "id": "c67300e12e3e5548",
   "outputs": [
    {
     "name": "stdout",
     "output_type": "stream",
     "text": [
      "Vectorizing text from 'text_' using 'tfidf'...\n",
      "Feature matrix shape: (40432, 5000)\n",
      "Extracted labels from 'label'. Shape: (40432,)\n"
     ]
    }
   ],
   "execution_count": 24
  },
  {
   "metadata": {
    "ExecuteTime": {
     "end_time": "2025-06-27T17:14:41.189443Z",
     "start_time": "2025-06-27T17:14:41.176022Z"
    }
   },
   "cell_type": "code",
   "source": [
    "X_train, X_test, y_train, y_test = train_test_split(\n",
    "            X_tfidf,\n",
    "            y_labels,\n",
    "            test_size=0.2,\n",
    "            random_state=42)"
   ],
   "id": "58341642e66046cc",
   "outputs": [],
   "execution_count": 27
  },
  {
   "metadata": {
    "ExecuteTime": {
     "end_time": "2025-06-27T17:33:14.476864Z",
     "start_time": "2025-06-27T17:33:14.460396Z"
    }
   },
   "cell_type": "code",
   "source": [
    "from source.models.baseline_models import BaselineModelTrainer\n",
    "\n",
    "trainer = BaselineModelTrainer()\n",
    "supported_models = trainer.get_supported_models()\n",
    "supported_models"
   ],
   "id": "ca87f8a55a69ecc2",
   "outputs": [
    {
     "data": {
      "text/plain": [
       "['logistic_regression', 'naive_bayes', 'linear_svc']"
      ]
     },
     "execution_count": 29,
     "metadata": {},
     "output_type": "execute_result"
    }
   ],
   "execution_count": 29
  },
  {
   "metadata": {},
   "cell_type": "markdown",
   "source": "",
   "id": "93885e2c04ffa762"
  },
  {
   "metadata": {
    "ExecuteTime": {
     "end_time": "2025-06-27T18:29:08.933128Z",
     "start_time": "2025-06-27T18:29:08.246960Z"
    }
   },
   "cell_type": "code",
   "source": [
    "from sklearn.metrics import classification_report\n",
    "\n",
    "trainer = BaselineModelTrainer()\n",
    "results = {}\n",
    "\n",
    "for model_name in trainer.get_supported_models():\n",
    "    y_pred, model = trainer.train_and_predict(model_name, X_train, y_train, X_test)\n",
    "    report = classification_report(y_test, y_pred, target_names=target_names, output_dict=True)\n",
    "    results[model_name] = report\n",
    "    print(classification_report(y_test, y_pred, target_names=target_names))"
   ],
   "id": "66cee5732c65b6c2",
   "outputs": [
    {
     "name": "stdout",
     "output_type": "stream",
     "text": [
      "--- Training logistic_regression ---\n",
      "Using model parameters: {'class_weight': 'balanced', 'random_state': 42, 'max_iter': 1000, 'solver': 'liblinear'}\n",
      "Training complete.\n",
      "Making predictions on the test set...\n",
      "              precision    recall  f1-score   support\n",
      "\n",
      "          CG       0.88      0.85      0.87      4016\n",
      "          OR       0.86      0.89      0.87      4071\n",
      "\n",
      "    accuracy                           0.87      8087\n",
      "   macro avg       0.87      0.87      0.87      8087\n",
      "weighted avg       0.87      0.87      0.87      8087\n",
      "\n",
      "--- Training naive_bayes ---\n",
      "Using model parameters: {'alpha': 1.0}\n",
      "Training complete.\n",
      "Making predictions on the test set...\n",
      "              precision    recall  f1-score   support\n",
      "\n",
      "          CG       0.83      0.87      0.85      4016\n",
      "          OR       0.86      0.83      0.85      4071\n",
      "\n",
      "    accuracy                           0.85      8087\n",
      "   macro avg       0.85      0.85      0.85      8087\n",
      "weighted avg       0.85      0.85      0.85      8087\n",
      "\n",
      "--- Training linear_svc ---\n",
      "Using model parameters: {'class_weight': 'balanced', 'random_state': 42, 'max_iter': 2000, 'dual': False}\n",
      "Training complete.\n",
      "Making predictions on the test set...\n",
      "              precision    recall  f1-score   support\n",
      "\n",
      "          CG       0.88      0.88      0.88      4016\n",
      "          OR       0.88      0.88      0.88      4071\n",
      "\n",
      "    accuracy                           0.88      8087\n",
      "   macro avg       0.88      0.88      0.88      8087\n",
      "weighted avg       0.88      0.88      0.88      8087\n",
      "\n"
     ]
    }
   ],
   "execution_count": 38
  },
  {
   "metadata": {
    "ExecuteTime": {
     "end_time": "2025-06-27T17:47:43.911747Z",
     "start_time": "2025-06-27T17:47:40.532641Z"
    }
   },
   "cell_type": "code",
   "source": [
    "from sklearn.model_selection import GridSearchCV\n",
    "from sklearn.linear_model import LogisticRegression\n",
    "param_grid = {'C': [0.01, 0.1, 1, 10, 100]}\n",
    "\n",
    "grid_search = GridSearchCV(\n",
    "    LogisticRegression(class_weight='balanced', max_iter=1000, solver='liblinear'),\n",
    "    param_grid,\n",
    "    cv=5,\n",
    "    scoring='f1_weighted',\n",
    "    verbose=1,\n",
    "    n_jobs=-1 \n",
    ")\n",
    "\n",
    "grid_search.fit(X_train, y_train)\n",
    "\n",
    "best_model = grid_search.best_estimator_\n",
    "print(f\"\\nЛучший параметр C: {grid_search.best_params_}\")\n",
    "print(f\"Лучший F1-score на кросс-валидации: {grid_search.best_score_:.4f}\")\n",
    "\n",
    "y_pred_tuned = best_model.predict(X_test)\n",
    "report_tuned = classification_report(y_test, y_pred_tuned, target_names=target_names, output_dict=True)\n",
    "results['logistic_regression_tuned'] = report_tuned\n",
    "\n",
    "print(\"\\nОтчет по классификации для Logistic Regression с лучшими параметрами:\")\n",
    "print(classification_report(y_test, y_pred_tuned, target_names=target_names))"
   ],
   "id": "55304898b24ddd8b",
   "outputs": [
    {
     "name": "stdout",
     "output_type": "stream",
     "text": [
      "Fitting 5 folds for each of 5 candidates, totalling 25 fits\n",
      "\n",
      "Лучший параметр C: {'C': 10}\n",
      "Лучший F1-score на кросс-валидации: 0.8707\n",
      "\n",
      "Отчет по классификации для Logistic Regression с лучшими параметрами:\n",
      "              precision    recall  f1-score   support\n",
      "\n",
      "          CG       0.88      0.87      0.88      4016\n",
      "          OR       0.88      0.88      0.88      4071\n",
      "\n",
      "    accuracy                           0.88      8087\n",
      "   macro avg       0.88      0.88      0.88      8087\n",
      "weighted avg       0.88      0.88      0.88      8087\n",
      "\n"
     ]
    }
   ],
   "execution_count": 37
  },
  {
   "metadata": {},
   "cell_type": "markdown",
   "source": [
    "### Анализ результатов\n",
    "#### Лучшая модель: \n",
    "Судя по сводной таблице, наилучший результат по метрике F1-score (weighted) показала модель logistic_regression_tuned (значение 0.88) и linear_svc. Это подтверждает, что подбор гиперпараметров позволил улучшить качество по сравнению с базовой логистической регрессией.\n",
    "\n",
    "#### Сравнение моделей: \n",
    "Все три базовые модели показали схожие результаты, что часто бывает на задачах классификации текста. LinearSVC немного опередила NaiveBayes и LogisticRegression.\n",
    "\n",
    "#### Анализ по классам (посмотреть в classification_report): \n",
    "Метрики для классов 'positive' и 'negative' сбалансированы, что говорит об отсутствии явного перекоса в предсказаниях модели в сторону одного из классов. Если бы для одного класса recall был бы значительно ниже, это бы указывало на проблему.\n",
    "\n",
    "### Вывод:\n",
    " Простые линейные модели отлично справляются с данной задачей. Оптимизация гиперпараметров дает дополнительный, хоть и не кардинальный, прирост качества. В качестве финальной модели для развертывания рекомендуется logistic_regression_tuned."
   ],
   "id": "c8258f6a53b40bcc"
  },
  {
   "metadata": {
    "ExecuteTime": {
     "end_time": "2025-06-27T18:31:26.611259Z",
     "start_time": "2025-06-27T18:31:26.603147Z"
    }
   },
   "cell_type": "code",
   "source": [
    "yelp_set={\"link\":\"thedevastator/yelp-reviews-sentiment-dataset\", \"filename\":\"train.csv\"}\n",
    "flipkart_set={\"link\":\"niraliivaghani/flipkart-product-customer-reviews-dataset\", \"filename\":\"Dataset-SA.csv\"}\n",
    "amazon_set={\"link\":\"dongrelaxman/amazon-reviews-dataset\", \"filename\":\"Amazon_Reviews.csv\"}\n"
   ],
   "id": "e39f791bea5dc532",
   "outputs": [],
   "execution_count": 39
  },
  {
   "metadata": {},
   "cell_type": "code",
   "outputs": [],
   "execution_count": null,
   "source": "",
   "id": "a25d7f4416a04fb5"
  }
 ],
 "metadata": {
  "kernelspec": {
   "display_name": "Python 3",
   "language": "python",
   "name": "python3"
  },
  "language_info": {
   "codemirror_mode": {
    "name": "ipython",
    "version": 2
   },
   "file_extension": ".py",
   "mimetype": "text/x-python",
   "name": "python",
   "nbconvert_exporter": "python",
   "pygments_lexer": "ipython2",
   "version": "2.7.6"
  }
 },
 "nbformat": 4,
 "nbformat_minor": 5
}
