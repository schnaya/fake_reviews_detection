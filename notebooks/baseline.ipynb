{
 "cells": [
  {
   "cell_type": "code",
   "id": "initial_id",
   "metadata": {
    "collapsed": true,
    "ExecuteTime": {
     "end_time": "2025-06-26T11:37:11.143656Z",
     "start_time": "2025-06-26T11:37:10.612446Z"
    }
   },
   "source": [
    "import pandas as pd\n",
    "from source.data import DataLoader, DataExplorer"
   ],
   "outputs": [],
   "execution_count": 1
  },
  {
   "metadata": {
    "ExecuteTime": {
     "end_time": "2025-06-26T11:37:11.147189Z",
     "start_time": "2025-06-26T11:37:11.144661Z"
    }
   },
   "cell_type": "code",
   "source": "loader = DataLoader()",
   "id": "8a2e5b82bfd12bcc",
   "outputs": [],
   "execution_count": 2
  },
  {
   "metadata": {
    "ExecuteTime": {
     "end_time": "2025-06-26T11:37:11.163546Z",
     "start_time": "2025-06-26T11:37:11.147189Z"
    }
   },
   "cell_type": "code",
   "source": "mexwell_set={\"link\":\"mexwell/fake-reviews-dataset\", \"filename\":\"fake reviews dataset.csv\"}",
   "id": "59b3da8ff9930fa9",
   "outputs": [],
   "execution_count": 3
  },
  {
   "metadata": {
    "ExecuteTime": {
     "end_time": "2025-06-26T11:37:11.295610Z",
     "start_time": "2025-06-26T11:37:11.164648Z"
    }
   },
   "cell_type": "code",
   "source": "df = loader.load_from_kaggle(**mexwell_set)",
   "id": "b920a2a425b78e",
   "outputs": [
    {
     "name": "stdout",
     "output_type": "stream",
     "text": [
      "../data\\mexwell\\fake-reviews-dataset\\fake reviews dataset.csv\n"
     ]
    }
   ],
   "execution_count": 4
  },
  {
   "metadata": {
    "ExecuteTime": {
     "end_time": "2025-06-26T11:37:11.299775Z",
     "start_time": "2025-06-26T11:37:11.296614Z"
    }
   },
   "cell_type": "code",
   "source": "explorer = DataExplorer(df)",
   "id": "5e98b116b7310041",
   "outputs": [],
   "execution_count": 5
  },
  {
   "metadata": {
    "ExecuteTime": {
     "end_time": "2025-06-26T11:56:36.189707Z",
     "start_time": "2025-06-26T11:56:36.182555Z"
    }
   },
   "cell_type": "code",
   "source": "explorer.show_head()",
   "id": "3e1392b0364db173",
   "outputs": [
    {
     "data": {
      "text/plain": [
       "             category  rating label  \\\n",
       "0  Home_and_Kitchen_5     5.0    CG   \n",
       "1  Home_and_Kitchen_5     5.0    CG   \n",
       "2  Home_and_Kitchen_5     5.0    CG   \n",
       "3  Home_and_Kitchen_5     1.0    CG   \n",
       "4  Home_and_Kitchen_5     5.0    CG   \n",
       "5  Home_and_Kitchen_5     3.0    CG   \n",
       "6  Home_and_Kitchen_5     5.0    CG   \n",
       "7  Home_and_Kitchen_5     3.0    CG   \n",
       "8  Home_and_Kitchen_5     5.0    CG   \n",
       "9  Home_and_Kitchen_5     5.0    CG   \n",
       "\n",
       "                                               text_  \n",
       "0  Love this!  Well made, sturdy, and very comfor...  \n",
       "1  love it, a great upgrade from the original.  I...  \n",
       "2  This pillow saved my back. I love the look and...  \n",
       "3  Missing information on how to use it, but it i...  \n",
       "4  Very nice set. Good quality. We have had the s...  \n",
       "5       I WANTED DIFFERENT FLAVORS BUT THEY ARE NOT.  \n",
       "6  They are the perfect touch for me and the only...  \n",
       "7  These done fit well and look great.  I love th...  \n",
       "8  Great big numbers & easy to read, the only thi...  \n",
       "9  My son loves this comforter and it is very wel...  "
      ],
      "text/html": [
       "<div>\n",
       "<style scoped>\n",
       "    .dataframe tbody tr th:only-of-type {\n",
       "        vertical-align: middle;\n",
       "    }\n",
       "\n",
       "    .dataframe tbody tr th {\n",
       "        vertical-align: top;\n",
       "    }\n",
       "\n",
       "    .dataframe thead th {\n",
       "        text-align: right;\n",
       "    }\n",
       "</style>\n",
       "<table border=\"1\" class=\"dataframe\">\n",
       "  <thead>\n",
       "    <tr style=\"text-align: right;\">\n",
       "      <th></th>\n",
       "      <th>category</th>\n",
       "      <th>rating</th>\n",
       "      <th>label</th>\n",
       "      <th>text_</th>\n",
       "    </tr>\n",
       "  </thead>\n",
       "  <tbody>\n",
       "    <tr>\n",
       "      <th>0</th>\n",
       "      <td>Home_and_Kitchen_5</td>\n",
       "      <td>5.0</td>\n",
       "      <td>CG</td>\n",
       "      <td>Love this!  Well made, sturdy, and very comfor...</td>\n",
       "    </tr>\n",
       "    <tr>\n",
       "      <th>1</th>\n",
       "      <td>Home_and_Kitchen_5</td>\n",
       "      <td>5.0</td>\n",
       "      <td>CG</td>\n",
       "      <td>love it, a great upgrade from the original.  I...</td>\n",
       "    </tr>\n",
       "    <tr>\n",
       "      <th>2</th>\n",
       "      <td>Home_and_Kitchen_5</td>\n",
       "      <td>5.0</td>\n",
       "      <td>CG</td>\n",
       "      <td>This pillow saved my back. I love the look and...</td>\n",
       "    </tr>\n",
       "    <tr>\n",
       "      <th>3</th>\n",
       "      <td>Home_and_Kitchen_5</td>\n",
       "      <td>1.0</td>\n",
       "      <td>CG</td>\n",
       "      <td>Missing information on how to use it, but it i...</td>\n",
       "    </tr>\n",
       "    <tr>\n",
       "      <th>4</th>\n",
       "      <td>Home_and_Kitchen_5</td>\n",
       "      <td>5.0</td>\n",
       "      <td>CG</td>\n",
       "      <td>Very nice set. Good quality. We have had the s...</td>\n",
       "    </tr>\n",
       "    <tr>\n",
       "      <th>5</th>\n",
       "      <td>Home_and_Kitchen_5</td>\n",
       "      <td>3.0</td>\n",
       "      <td>CG</td>\n",
       "      <td>I WANTED DIFFERENT FLAVORS BUT THEY ARE NOT.</td>\n",
       "    </tr>\n",
       "    <tr>\n",
       "      <th>6</th>\n",
       "      <td>Home_and_Kitchen_5</td>\n",
       "      <td>5.0</td>\n",
       "      <td>CG</td>\n",
       "      <td>They are the perfect touch for me and the only...</td>\n",
       "    </tr>\n",
       "    <tr>\n",
       "      <th>7</th>\n",
       "      <td>Home_and_Kitchen_5</td>\n",
       "      <td>3.0</td>\n",
       "      <td>CG</td>\n",
       "      <td>These done fit well and look great.  I love th...</td>\n",
       "    </tr>\n",
       "    <tr>\n",
       "      <th>8</th>\n",
       "      <td>Home_and_Kitchen_5</td>\n",
       "      <td>5.0</td>\n",
       "      <td>CG</td>\n",
       "      <td>Great big numbers &amp; easy to read, the only thi...</td>\n",
       "    </tr>\n",
       "    <tr>\n",
       "      <th>9</th>\n",
       "      <td>Home_and_Kitchen_5</td>\n",
       "      <td>5.0</td>\n",
       "      <td>CG</td>\n",
       "      <td>My son loves this comforter and it is very wel...</td>\n",
       "    </tr>\n",
       "  </tbody>\n",
       "</table>\n",
       "</div>"
      ]
     },
     "execution_count": 17,
     "metadata": {},
     "output_type": "execute_result"
    }
   ],
   "execution_count": 17
  },
  {
   "metadata": {
    "ExecuteTime": {
     "end_time": "2025-06-26T11:37:12.028090Z",
     "start_time": "2025-06-26T11:37:11.312941Z"
    }
   },
   "cell_type": "code",
   "source": "explorer.print_summary(text_column=\"text_\", label_column=\"label\", rating_column=\"rating\")",
   "id": "1e5d40b940cd3e73",
   "outputs": [
    {
     "name": "stdout",
     "output_type": "stream",
     "text": [
      "==================================================\n",
      "СВОДКА ПО ДАННЫМ\n",
      "==================================================\n",
      "Размерность данных: (40432, 4)\n",
      "Количество колонок: 4\n",
      "Колонки: category, rating, label, text_\n",
      "\n",
      "Пропущенные значения отсутствуют\n",
      "\n",
      "АНАЛИЗ ТЕКСТА:\n",
      "  Длина текста - мин: 24, макс: 2827, среднее: 351.27\n",
      "  Топ-5 слов: the(157256), a(96886), i(96841), and(87616), it(68590)\n",
      "\n",
      "РАСПРЕДЕЛЕНИЕ РЕЙТИНГОВ:\n",
      "  1.0: 2155 (5.3%)\n",
      "  2.0: 1967 (4.9%)\n",
      "  3.0: 3786 (9.4%)\n",
      "  4.0: 7965 (19.7%)\n",
      "  5.0: 24559 (60.7%)\n",
      "\n",
      "РЕЙТИНГИ ПО МЕТКАМ (%):\n",
      "label      CG     OR  Всего\n",
      "rating                     \n",
      "1.0      5.26   5.40   5.33\n",
      "2.0      4.76   4.97   4.86\n",
      "3.0      9.66   9.07   9.36\n",
      "4.0     19.39  20.01  19.70\n",
      "5.0     60.94  60.55  60.74\n",
      "\n",
      "РАСПРЕДЕЛЕНИЕ МЕТОК:\n",
      "  CG: 20216 (50.0%)\n",
      "  OR: 20216 (50.0%)\n",
      "\n"
     ]
    }
   ],
   "execution_count": 7
  },
  {
   "metadata": {
    "ExecuteTime": {
     "end_time": "2025-06-26T11:39:28.296518Z",
     "start_time": "2025-06-26T11:37:12.029096Z"
    }
   },
   "cell_type": "code",
   "source": [
    "yelp_set={\"link\":\"thedevastator/yelp-reviews-sentiment-dataset\", \"filename\":\"train.csv\"}\n",
    "yelp = loader.load_from_kaggle(**yelp_set)"
   ],
   "id": "e39f791bea5dc532",
   "outputs": [
    {
     "name": "stdout",
     "output_type": "stream",
     "text": [
      "../data\\thedevastator\\yelp-reviews-sentiment-dataset\\train.csv\n",
      "Downloading from https://www.kaggle.com/api/v1/datasets/download/thedevastator/yelp-reviews-sentiment-dataset?dataset_version_number=2...\n"
     ]
    },
    {
     "name": "stderr",
     "output_type": "stream",
     "text": [
      "100%|██████████| 162M/162M [02:11<00:00, 1.29MB/s] "
     ]
    },
    {
     "name": "stdout",
     "output_type": "stream",
     "text": [
      "Extracting files...\n"
     ]
    },
    {
     "name": "stderr",
     "output_type": "stream",
     "text": [
      "\n"
     ]
    }
   ],
   "execution_count": 8
  },
  {
   "metadata": {
    "ExecuteTime": {
     "end_time": "2025-06-26T11:39:28.306379Z",
     "start_time": "2025-06-26T11:39:28.296518Z"
    }
   },
   "cell_type": "code",
   "source": "yelp_explorer = DataExplorer(yelp)",
   "id": "a19680085bb095d",
   "outputs": [],
   "execution_count": 9
  },
  {
   "metadata": {
    "ExecuteTime": {
     "end_time": "2025-06-26T11:39:28.317889Z",
     "start_time": "2025-06-26T11:39:28.306379Z"
    }
   },
   "cell_type": "code",
   "source": "yelp_explorer.show_head()",
   "id": "20c93d36f5f39c9f",
   "outputs": [
    {
     "data": {
      "text/plain": [
       "                                                text  label\n",
       "0  Unfortunately, the frustration of being Dr. Go...      0\n",
       "1  Been going to Dr. Goldberg for over 10 years. ...      1\n",
       "2  I don't know what Dr. Goldberg was like before...      0\n",
       "3  I'm writing this review to give you a heads up...      0\n",
       "4  All the food is great here. But the best thing...      1\n",
       "5  Wing sauce is like water. Pretty much a lot of...      0\n",
       "6  Owning a driving range inside the city limits ...      0\n",
       "7  This place is absolute garbage...  Half of the...      0\n",
       "8  Before I finally made it over to this range I ...      1\n",
       "9  I drove by yesterday to get a sneak peak.  It ...      1"
      ],
      "text/html": [
       "<div>\n",
       "<style scoped>\n",
       "    .dataframe tbody tr th:only-of-type {\n",
       "        vertical-align: middle;\n",
       "    }\n",
       "\n",
       "    .dataframe tbody tr th {\n",
       "        vertical-align: top;\n",
       "    }\n",
       "\n",
       "    .dataframe thead th {\n",
       "        text-align: right;\n",
       "    }\n",
       "</style>\n",
       "<table border=\"1\" class=\"dataframe\">\n",
       "  <thead>\n",
       "    <tr style=\"text-align: right;\">\n",
       "      <th></th>\n",
       "      <th>text</th>\n",
       "      <th>label</th>\n",
       "    </tr>\n",
       "  </thead>\n",
       "  <tbody>\n",
       "    <tr>\n",
       "      <th>0</th>\n",
       "      <td>Unfortunately, the frustration of being Dr. Go...</td>\n",
       "      <td>0</td>\n",
       "    </tr>\n",
       "    <tr>\n",
       "      <th>1</th>\n",
       "      <td>Been going to Dr. Goldberg for over 10 years. ...</td>\n",
       "      <td>1</td>\n",
       "    </tr>\n",
       "    <tr>\n",
       "      <th>2</th>\n",
       "      <td>I don't know what Dr. Goldberg was like before...</td>\n",
       "      <td>0</td>\n",
       "    </tr>\n",
       "    <tr>\n",
       "      <th>3</th>\n",
       "      <td>I'm writing this review to give you a heads up...</td>\n",
       "      <td>0</td>\n",
       "    </tr>\n",
       "    <tr>\n",
       "      <th>4</th>\n",
       "      <td>All the food is great here. But the best thing...</td>\n",
       "      <td>1</td>\n",
       "    </tr>\n",
       "    <tr>\n",
       "      <th>5</th>\n",
       "      <td>Wing sauce is like water. Pretty much a lot of...</td>\n",
       "      <td>0</td>\n",
       "    </tr>\n",
       "    <tr>\n",
       "      <th>6</th>\n",
       "      <td>Owning a driving range inside the city limits ...</td>\n",
       "      <td>0</td>\n",
       "    </tr>\n",
       "    <tr>\n",
       "      <th>7</th>\n",
       "      <td>This place is absolute garbage...  Half of the...</td>\n",
       "      <td>0</td>\n",
       "    </tr>\n",
       "    <tr>\n",
       "      <th>8</th>\n",
       "      <td>Before I finally made it over to this range I ...</td>\n",
       "      <td>1</td>\n",
       "    </tr>\n",
       "    <tr>\n",
       "      <th>9</th>\n",
       "      <td>I drove by yesterday to get a sneak peak.  It ...</td>\n",
       "      <td>1</td>\n",
       "    </tr>\n",
       "  </tbody>\n",
       "</table>\n",
       "</div>"
      ]
     },
     "execution_count": 10,
     "metadata": {},
     "output_type": "execute_result"
    }
   ],
   "execution_count": 10
  },
  {
   "metadata": {
    "ExecuteTime": {
     "end_time": "2025-06-26T11:39:48.693806Z",
     "start_time": "2025-06-26T11:39:28.317889Z"
    }
   },
   "cell_type": "code",
   "source": "yelp_explorer.print_summary(text_column=\"text\", label_column=\"label\")",
   "id": "1f6b8a9bf7b5d7fc",
   "outputs": [
    {
     "name": "stdout",
     "output_type": "stream",
     "text": [
      "==================================================\n",
      "СВОДКА ПО ДАННЫМ\n",
      "==================================================\n",
      "Размерность данных: (560000, 2)\n",
      "Количество колонок: 2\n",
      "Колонки: text, label\n",
      "\n",
      "Пропущенные значения отсутствуют\n",
      "\n",
      "АНАЛИЗ ТЕКСТА:\n",
      "  Длина текста - мин: 1, макс: 5273, среднее: 726.5\n",
      "  Топ-5 слов: the(3675392), and(2403210), i(1923516), to(1882857), a(1874953)\n",
      "\n",
      "РАСПРЕДЕЛЕНИЕ МЕТОК:\n",
      "  0: 280000 (50.0%)\n",
      "  1: 280000 (50.0%)\n",
      "\n"
     ]
    }
   ],
   "execution_count": 11
  },
  {
   "metadata": {
    "ExecuteTime": {
     "end_time": "2025-06-26T11:47:03.769347Z",
     "start_time": "2025-06-26T11:46:59.006391Z"
    }
   },
   "cell_type": "code",
   "source": [
    "flipkart_set={\"link\":\"niraliivaghani/flipkart-product-customer-reviews-dataset\", \"filename\":\"Dataset-SA.csv\"}\n",
    "flipkart = loader.load_from_kaggle(**flipkart_set)\n",
    "flipkart_explorer = DataExplorer(flipkart)\n",
    "flipkart_explorer.show_head()"
   ],
   "id": "bc2a1de2d6e05a39",
   "outputs": [
    {
     "name": "stdout",
     "output_type": "stream",
     "text": [
      "../data\\niraliivaghani\\flipkart-product-customer-reviews-dataset\\Dataset-SA.csv\n",
      "Downloading from https://www.kaggle.com/api/v1/datasets/download/niraliivaghani/flipkart-product-customer-reviews-dataset?dataset_version_number=1...\n"
     ]
    },
    {
     "name": "stderr",
     "output_type": "stream",
     "text": [
      "100%|██████████| 3.79M/3.79M [00:03<00:00, 1.25MB/s]"
     ]
    },
    {
     "name": "stdout",
     "output_type": "stream",
     "text": [
      "Extracting files...\n"
     ]
    },
    {
     "name": "stderr",
     "output_type": "stream",
     "text": [
      "\n"
     ]
    },
    {
     "data": {
      "text/plain": [
       "                                        product_name product_price Rate  \\\n",
       "0  Candes 12 L Room/Personal Air Cooler??????(Whi...          3999    5   \n",
       "1  Candes 12 L Room/Personal Air Cooler??????(Whi...          3999    5   \n",
       "2  Candes 12 L Room/Personal Air Cooler??????(Whi...          3999    3   \n",
       "3  Candes 12 L Room/Personal Air Cooler??????(Whi...          3999    1   \n",
       "4  Candes 12 L Room/Personal Air Cooler??????(Whi...          3999    3   \n",
       "5  Candes 12 L Room/Personal Air Cooler??????(Whi...          3999    5   \n",
       "6  Candes 12 L Room/Personal Air Cooler??????(Whi...          3999    5   \n",
       "7  Candes 12 L Room/Personal Air Cooler??????(Whi...          3999    3   \n",
       "8  Candes 12 L Room/Personal Air Cooler??????(Whi...          3999    1   \n",
       "9  Candes 12 L Room/Personal Air Cooler??????(Whi...          3999    4   \n",
       "\n",
       "               Review                                            Summary  \\\n",
       "0              super!  great cooler excellent air flow and for this p...   \n",
       "1             awesome              best budget 2 fit cooler nice cooling   \n",
       "2                fair  the quality is good but the power of air is de...   \n",
       "3     useless product                  very bad product its a only a fan   \n",
       "4                fair                                      ok ok product   \n",
       "5             awesome  the cooler is really fantastic and provides go...   \n",
       "6  highly recommended                                  very good product   \n",
       "7                nice                                          very nice   \n",
       "8      unsatisfactory                                    very bad cooler   \n",
       "9     worth the money                                          very good   \n",
       "\n",
       "  Sentiment  \n",
       "0  positive  \n",
       "1  positive  \n",
       "2  positive  \n",
       "3  negative  \n",
       "4   neutral  \n",
       "5  positive  \n",
       "6  positive  \n",
       "7  positive  \n",
       "8  negative  \n",
       "9  positive  "
      ],
      "text/html": [
       "<div>\n",
       "<style scoped>\n",
       "    .dataframe tbody tr th:only-of-type {\n",
       "        vertical-align: middle;\n",
       "    }\n",
       "\n",
       "    .dataframe tbody tr th {\n",
       "        vertical-align: top;\n",
       "    }\n",
       "\n",
       "    .dataframe thead th {\n",
       "        text-align: right;\n",
       "    }\n",
       "</style>\n",
       "<table border=\"1\" class=\"dataframe\">\n",
       "  <thead>\n",
       "    <tr style=\"text-align: right;\">\n",
       "      <th></th>\n",
       "      <th>product_name</th>\n",
       "      <th>product_price</th>\n",
       "      <th>Rate</th>\n",
       "      <th>Review</th>\n",
       "      <th>Summary</th>\n",
       "      <th>Sentiment</th>\n",
       "    </tr>\n",
       "  </thead>\n",
       "  <tbody>\n",
       "    <tr>\n",
       "      <th>0</th>\n",
       "      <td>Candes 12 L Room/Personal Air Cooler??????(Whi...</td>\n",
       "      <td>3999</td>\n",
       "      <td>5</td>\n",
       "      <td>super!</td>\n",
       "      <td>great cooler excellent air flow and for this p...</td>\n",
       "      <td>positive</td>\n",
       "    </tr>\n",
       "    <tr>\n",
       "      <th>1</th>\n",
       "      <td>Candes 12 L Room/Personal Air Cooler??????(Whi...</td>\n",
       "      <td>3999</td>\n",
       "      <td>5</td>\n",
       "      <td>awesome</td>\n",
       "      <td>best budget 2 fit cooler nice cooling</td>\n",
       "      <td>positive</td>\n",
       "    </tr>\n",
       "    <tr>\n",
       "      <th>2</th>\n",
       "      <td>Candes 12 L Room/Personal Air Cooler??????(Whi...</td>\n",
       "      <td>3999</td>\n",
       "      <td>3</td>\n",
       "      <td>fair</td>\n",
       "      <td>the quality is good but the power of air is de...</td>\n",
       "      <td>positive</td>\n",
       "    </tr>\n",
       "    <tr>\n",
       "      <th>3</th>\n",
       "      <td>Candes 12 L Room/Personal Air Cooler??????(Whi...</td>\n",
       "      <td>3999</td>\n",
       "      <td>1</td>\n",
       "      <td>useless product</td>\n",
       "      <td>very bad product its a only a fan</td>\n",
       "      <td>negative</td>\n",
       "    </tr>\n",
       "    <tr>\n",
       "      <th>4</th>\n",
       "      <td>Candes 12 L Room/Personal Air Cooler??????(Whi...</td>\n",
       "      <td>3999</td>\n",
       "      <td>3</td>\n",
       "      <td>fair</td>\n",
       "      <td>ok ok product</td>\n",
       "      <td>neutral</td>\n",
       "    </tr>\n",
       "    <tr>\n",
       "      <th>5</th>\n",
       "      <td>Candes 12 L Room/Personal Air Cooler??????(Whi...</td>\n",
       "      <td>3999</td>\n",
       "      <td>5</td>\n",
       "      <td>awesome</td>\n",
       "      <td>the cooler is really fantastic and provides go...</td>\n",
       "      <td>positive</td>\n",
       "    </tr>\n",
       "    <tr>\n",
       "      <th>6</th>\n",
       "      <td>Candes 12 L Room/Personal Air Cooler??????(Whi...</td>\n",
       "      <td>3999</td>\n",
       "      <td>5</td>\n",
       "      <td>highly recommended</td>\n",
       "      <td>very good product</td>\n",
       "      <td>positive</td>\n",
       "    </tr>\n",
       "    <tr>\n",
       "      <th>7</th>\n",
       "      <td>Candes 12 L Room/Personal Air Cooler??????(Whi...</td>\n",
       "      <td>3999</td>\n",
       "      <td>3</td>\n",
       "      <td>nice</td>\n",
       "      <td>very nice</td>\n",
       "      <td>positive</td>\n",
       "    </tr>\n",
       "    <tr>\n",
       "      <th>8</th>\n",
       "      <td>Candes 12 L Room/Personal Air Cooler??????(Whi...</td>\n",
       "      <td>3999</td>\n",
       "      <td>1</td>\n",
       "      <td>unsatisfactory</td>\n",
       "      <td>very bad cooler</td>\n",
       "      <td>negative</td>\n",
       "    </tr>\n",
       "    <tr>\n",
       "      <th>9</th>\n",
       "      <td>Candes 12 L Room/Personal Air Cooler??????(Whi...</td>\n",
       "      <td>3999</td>\n",
       "      <td>4</td>\n",
       "      <td>worth the money</td>\n",
       "      <td>very good</td>\n",
       "      <td>positive</td>\n",
       "    </tr>\n",
       "  </tbody>\n",
       "</table>\n",
       "</div>"
      ]
     },
     "execution_count": 14,
     "metadata": {},
     "output_type": "execute_result"
    }
   ],
   "execution_count": 14
  },
  {
   "metadata": {},
   "cell_type": "markdown",
   "source": [
    "amazon_set={\"link\":\"dongrelaxman/amazon-reviews-dataset\", \"filename\":\"Amazon_Reviews.csv\"}\n",
    "amazon = loader.load_from_kaggle(**amazon_set)\n",
    "amazon_explorer = DataExplorer(amazon)\n",
    "amazon_explorer.show_head()"
   ],
   "id": "a473963efa400a36"
  },
  {
   "metadata": {},
   "cell_type": "code",
   "outputs": [],
   "execution_count": null,
   "source": "",
   "id": "4c42975b79fb6dff"
  }
 ],
 "metadata": {
  "kernelspec": {
   "display_name": "Python 3",
   "language": "python",
   "name": "python3"
  },
  "language_info": {
   "codemirror_mode": {
    "name": "ipython",
    "version": 2
   },
   "file_extension": ".py",
   "mimetype": "text/x-python",
   "name": "python",
   "nbconvert_exporter": "python",
   "pygments_lexer": "ipython2",
   "version": "2.7.6"
  }
 },
 "nbformat": 4,
 "nbformat_minor": 5
}
